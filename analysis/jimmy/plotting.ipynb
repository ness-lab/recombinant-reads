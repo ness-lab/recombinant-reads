{
 "cells": [
  {
   "cell_type": "code",
   "execution_count": 3,
   "metadata": {},
   "outputs": [],
   "source": [
    "import pysam\n",
    "import pandas as pd\n",
    "import seaborn as sns\n",
    "\n",
    "from cyvcf2 import VCF\n",
    "from tqdm import tqdm"
   ]
  },
  {
   "cell_type": "code",
   "execution_count": 4,
   "metadata": {},
   "outputs": [],
   "source": [
    "# load filtered bam/sam\n",
    "recomb_out_filepath = \"recomb_diagnosis.sam\"\n",
    "recomb_out = pysam.AlignmentFile(recomb_out_filepath, 'r')\n",
    "\n",
    "# vcf file obj\n",
    "vcf_filepath = \"filtered_full.vcf.gz\"\n",
    "vcf = VCF(vcf_filepath)"
   ]
  },
  {
   "cell_type": "code",
   "execution_count": 9,
   "metadata": {},
   "outputs": [
    {
     "name": "stderr",
     "output_type": "stream",
     "text": [
      "396706it [00:00, 622917.77it/s]\n"
     ]
    }
   ],
   "source": [
    "bam_data = {'bam_position': []}\n",
    "\n",
    "for record in tqdm(recomb_out):\n",
    "    bam_data['bam_position'].append(record.reference_start)"
   ]
  },
  {
   "cell_type": "code",
   "execution_count": 10,
   "metadata": {},
   "outputs": [
    {
     "name": "stderr",
     "output_type": "stream",
     "text": [
      "128447it [00:00, 130128.78it/s]\n"
     ]
    }
   ],
   "source": [
    "vcf_data = {'vcf_position': []}\n",
    "\n",
    "for variant in tqdm(vcf):\n",
    "    vcf_data['vcf_position'].append(variant.start)"
   ]
  },
  {
   "cell_type": "code",
   "execution_count": 44,
   "metadata": {},
   "outputs": [
    {
     "data": {
      "text/plain": [
       "<matplotlib.axes._subplots.AxesSubplot at 0x7f88ff497f28>"
      ]
     },
     "execution_count": 44,
     "metadata": {},
     "output_type": "execute_result"
    },
    {
     "data": {
      "image/png": "[encoded data removed]",
      "text/plain": [
       "<Figure size 432x288 with 1 Axes>"
      ]
     },
     "metadata": {
      "needs_background": "light"
     },
     "output_type": "display_data"
    }
   ],
   "source": [
    "# plotting\n",
    "sns.histplot(data=bam_data, x='bam_position', stat=\"count\", binwidth=500000)"
   ]
  },
  {
   "cell_type": "code",
   "execution_count": 45,
   "metadata": {},
   "outputs": [
    {
     "data": {
      "text/plain": [
       "<matplotlib.axes._subplots.AxesSubplot at 0x7f88f940e2e8>"
      ]
     },
     "execution_count": 45,
     "metadata": {},
     "output_type": "execute_result"
    },
    {
     "data": {
      "image/png": "[encoded data removed]",
      "text/plain": [
       "<Figure size 432x288 with 1 Axes>"
      ]
     },
     "metadata": {
      "needs_background": "light"
     },
     "output_type": "display_data"
    }
   ],
   "source": [
    "sns.histplot(data=vcf_data, x='vcf_position', stat=\"count\", binwidth=500000)"
   ]
  },
  {
   "cell_type": "code",
   "execution_count": 55,
   "metadata": {},
   "outputs": [
    {
     "name": "stdout",
     "output_type": "stream",
     "text": [
      "{'vcf_hist': [5609, 8421, 3667, 10597, 10662, 8454, 10718, 8719, 6882, 10785, 14586, 8789, 2111, 6912, 4678, 6636, 221], 'bam_hist': [15610, 29802, 14094, 34504, 34549, 22458, 39236, 27295, 23254, 35257, 48010, 24401, 5322, 7867, 9465, 24560, 1022]}\n"
     ]
    },
    {
     "data": {
      "text/plain": [
       "<matplotlib.axes._subplots.AxesSubplot at 0x7f88f8ff9128>"
      ]
     },
     "execution_count": 55,
     "metadata": {},
     "output_type": "execute_result"
    },
    {
     "data": {
      "image/png": "[encoded data removed]",
      "text/plain": [
       "<Figure size 432x288 with 1 Axes>"
      ]
     },
     "metadata": {
      "needs_background": "light"
     },
     "output_type": "display_data"
    }
   ],
   "source": [
    "# usuable variants on x, phase change reads on y\n",
    "\n",
    "def hist(binwidth):\n",
    "    bin_num = int(8500000/binwidth)\n",
    "    data = {'vcf_hist': [0] * bin_num, \n",
    "            'bam_hist': [0] * bin_num}\n",
    "    \n",
    "    for bam_pos in bam_data['bam_position']:\n",
    "        data['bam_hist'][int(bam_pos/binwidth)] += 1\n",
    "        \n",
    "    for vcf_pos in vcf_data['vcf_position']:\n",
    "        data['vcf_hist'][int(vcf_pos/binwidth)] += 1\n",
    "        \n",
    "    return data\n",
    "\n",
    "print(hist(500000))\n",
    "\n",
    "sns.scatterplot(data=hist(500000), x='vcf_hist', y='bam_hist')\n"
   ]
  },
  {
   "cell_type": "code",
   "execution_count": 5,
   "metadata": {},
   "outputs": [],
   "source": [
    "# variants per bam sequence\n",
    "\n",
    "def variant_per_bam(bam_filepath, vcf_filepath):\n",
    "    bam = pysam.AlignmentFile(bam_filepath, 'r')\n",
    "    vcf = VCF(vcf_filepath)\n",
    "    \n",
    "    data = {'variant_per_bam': []}\n",
    "    \n",
    "    for record in tqdm(bam):\n",
    "        region = '{c}:{l}-{r}'.format(c=record.reference_name,\n",
    "                                      l=record.reference_start,\n",
    "                                      r=record.reference_start + record.query_alignment_length)\n",
    "        variant_count = len([rec for rec in vcf(region)])\n",
    "        data['variant_per_bam'].append(variant_count)\n",
    "    \n",
    "    return data"
   ]
  },
  {
   "cell_type": "code",
   "execution_count": 6,
   "metadata": {},
   "outputs": [
    {
     "name": "stderr",
     "output_type": "stream",
     "text": [
      "593840it [07:48, 1268.32it/s]\n"
     ]
    }
   ],
   "source": [
    "filtered_data = variant_per_bam('recomb_diagnosis.sam', 'filtered_full.vcf.gz')"
   ]
  },
  {
   "cell_type": "code",
   "execution_count": 37,
   "metadata": {},
   "outputs": [
    {
     "name": "stderr",
     "output_type": "stream",
     "text": [
      "7737472it [1:12:52, 1769.78it/s]\n"
     ]
    }
   ],
   "source": [
    "full_data = variant_per_bam('test.sorted.bam', 'filtered_full.vcf.gz')"
   ]
  },
  {
   "cell_type": "code",
   "execution_count": 7,
   "metadata": {},
   "outputs": [
    {
     "data": {
      "text/plain": [
       "<matplotlib.axes._subplots.AxesSubplot at 0x7feb7a9005f8>"
      ]
     },
     "execution_count": 7,
     "metadata": {},
     "output_type": "execute_result"
    },
    {
     "data": {
      "image/png": "[encoded data removed]",
      "text/plain": [
       "<Figure size 432x288 with 1 Axes>"
      ]
     },
     "metadata": {
      "needs_background": "light"
     },
     "output_type": "display_data"
    }
   ],
   "source": [
    "# plotting filtered data\n",
    "sns.histplot(data=filtered_data, x='variant_per_bam', binwidth=1)"
   ]
  },
  {
   "cell_type": "code",
   "execution_count": 39,
   "metadata": {},
   "outputs": [
    {
     "data": {
      "text/plain": [
       "<matplotlib.axes._subplots.AxesSubplot at 0x7f3a345179e8>"
      ]
     },
     "execution_count": 39,
     "metadata": {},
     "output_type": "execute_result"
    },
    {
     "data": {
      "image/png": "[encoded data removed]",
      "text/plain": [
       "<Figure size 432x288 with 1 Axes>"
      ]
     },
     "metadata": {
      "needs_background": "light"
     },
     "output_type": "display_data"
    }
   ],
   "source": [
    "# plotting full data\n",
    "sns.histplot(data=full_data, x='variant_per_bam', binwidth=1)"
   ]
  },
  {
   "cell_type": "code",
   "execution_count": 20,
   "metadata": {},
   "outputs": [],
   "source": [
    "# variants per read pair\n",
    "\n",
    "def variant_per_readpair(bam_filepath, vcf_filepath):\n",
    "    bam = pysam.AlignmentFile(bam_filepath, 'r')\n",
    "    vcf = VCF(vcf_filepath)\n",
    "    \n",
    "    data = {'variant_per_readpair': []}\n",
    "    \n",
    "    prev_record = None\n",
    "    for record in tqdm(bam):   \n",
    "        \n",
    "        # initialize\n",
    "        if prev_record == None:\n",
    "            prev_record = record\n",
    "        \n",
    "        if prev_record.query_name != record.query_name:\n",
    "            prev_record = record\n",
    "        else:\n",
    "            region = '{c}:{l}-{r}'.format(c=record.reference_name,\n",
    "                                          l=record.reference_start,\n",
    "                                          r=record.reference_start + record.query_alignment_length)\n",
    "            \n",
    "            prev_region = '{c}:{l}-{r}'.format(c=prev_record.reference_name,\n",
    "                                          l=prev_record.reference_start,\n",
    "                                          r=prev_record.reference_start + prev_record.query_alignment_length)\n",
    "            \n",
    "            variant_count = len([rec for rec in vcf(region)]) + len([rec for rec in vcf(prev_region)])         \n",
    "            data['variant_per_readpair'].append(variant_count)\n",
    "    \n",
    "    return data"
   ]
  },
  {
   "cell_type": "code",
   "execution_count": 21,
   "metadata": {},
   "outputs": [
    {
     "name": "stderr",
     "output_type": "stream",
     "text": [
      "593840it [07:36, 1301.74it/s]\n"
     ]
    }
   ],
   "source": [
    "filtered_readpairs = variant_per_readpair('recomb_diagnosis.sam', 'filtered_full.vcf.gz')"
   ]
  },
  {
   "cell_type": "code",
   "execution_count": 25,
   "metadata": {},
   "outputs": [
    {
     "name": "stderr",
     "output_type": "stream",
     "text": [
      "7737472it [1:09:32, 1854.29it/s]\n"
     ]
    }
   ],
   "source": [
    "full_readpairs = variant_per_readpair('test.sorted.bam', 'filtered_full.vcf.gz')"
   ]
  },
  {
   "cell_type": "code",
   "execution_count": 24,
   "metadata": {},
   "outputs": [
    {
     "data": {
      "text/plain": [
       "<matplotlib.axes._subplots.AxesSubplot at 0x7feb79658048>"
      ]
     },
     "execution_count": 24,
     "metadata": {},
     "output_type": "execute_result"
    },
    {
     "data": {
      "image/png": "[encoded data removed]",
      "text/plain": [
       "<Figure size 432x288 with 1 Axes>"
      ]
     },
     "metadata": {
      "needs_background": "light"
     },
     "output_type": "display_data"
    }
   ],
   "source": [
    "# plotting filtered data\n",
    "sns.histplot(data=filtered_readpairs, x='variant_per_readpair', binwidth=1)"
   ]
  },
  {
   "cell_type": "code",
   "execution_count": 26,
   "metadata": {},
   "outputs": [
    {
     "data": {
      "text/plain": [
       "<matplotlib.axes._subplots.AxesSubplot at 0x7feb79687ac8>"
      ]
     },
     "execution_count": 26,
     "metadata": {},
     "output_type": "execute_result"
    },
    {
     "data": {
      "image/png": "[encoded data removed]",
      "text/plain": [
       "<Figure size 432x288 with 1 Axes>"
      ]
     },
     "metadata": {
      "needs_background": "light"
     },
     "output_type": "display_data"
    }
   ],
   "source": [
    "# plotting full data\n",
    "sns.histplot(data=full_readpairs, x='variant_per_readpair', binwidth=1)"
   ]
  },
  {
   "cell_type": "code",
   "execution_count": null,
   "metadata": {},
   "outputs": [],
   "source": []
  }
 ],
 "metadata": {
  "kernelspec": {
   "display_name": "Python 3",
   "language": "python",
   "name": "python3"
  },
  "language_info": {
   "codemirror_mode": {
    "name": "ipython",
    "version": 3
   },
   "file_extension": ".py",
   "mimetype": "text/x-python",
   "name": "python",
   "nbconvert_exporter": "python",
   "pygments_lexer": "ipython3",
   "version": "3.6.9"
  }
 },
 "nbformat": 4,
 "nbformat_minor": 2
}
