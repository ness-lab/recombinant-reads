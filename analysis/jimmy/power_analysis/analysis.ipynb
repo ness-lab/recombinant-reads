{
 "cells": [
  {
   "cell_type": "code",
   "execution_count": 13,
   "metadata": {},
   "outputs": [],
   "source": [
    "import subprocess\n",
    "import pysam"
   ]
  },
  {
   "cell_type": "code",
   "execution_count": 14,
   "metadata": {},
   "outputs": [
    {
     "data": {
      "text/plain": [
       "CompletedProcess(args=['samtools', 'index', 'output/filtered_testingsorted.bam'], returncode=0)"
      ]
     },
     "execution_count": 14,
     "metadata": {},
     "output_type": "execute_result"
    }
   ],
   "source": [
    "VCF2FASTA_FILEPATH = 'output/vcf2fasta.fasta'\n",
    "ANALYSIS_SCRIPT = 'analysis.py'\n",
    "\n",
    "'''\n",
    "1. run analysis.py\n",
    "2. get phase_change locations\n",
    "3. run readcomb\n",
    "4. sort readcomb output and analysis output\n",
    "5. get read count per window\n",
    "'''\n",
    "\n",
    "# step 1\n",
    "\n",
    "coverage = 1\n",
    "percentage = 0.00004\n",
    "analysis_output = 'output/testing'\n",
    "base_count = 1000000\n",
    "\n",
    "subprocess.run(['python3', 'analysis.py',\n",
    "                '-f', VCF2FASTA_FILEPATH,\n",
    "                '-e', str(base_count),\n",
    "                '-c', str(coverage),\n",
    "                '-p', str(percentage),\n",
    "                '-o', analysis_output])\n",
    "\n",
    "# step 2\n",
    "\n",
    "phase_changes = str(subprocess.check_output(['tail', '-1', 'output/phase_change_log.txt']))\n",
    "\n",
    "# step 3\n",
    "filtered_output = 'output/filtered_testing'\n",
    "\n",
    "subprocess.run(['readcomb-filter',\n",
    "                '-b', analysis_output + '.sam',\n",
    "                '-v', '../data/filtered_full.vcf.gz',\n",
    "                '-p', '4',\n",
    "                '-o', filtered_output])\n",
    "\n",
    "# step 4\n",
    "\n",
    "with open(analysis_output + 'sorted.bam', 'w') as f:\n",
    "    subprocess.call(['samtools', 'sort', analysis_output + '.sam'], stdout=f)\n",
    "    \n",
    "subprocess.run(['samtools', 'index', analysis_output + 'sorted.bam'])\n",
    "\n",
    "with open(filtered_output + 'sorted.bam', 'w') as f:\n",
    "    subprocess.call(['samtools', 'sort', filtered_output + '.sam'], stdout=f)\n",
    "    \n",
    "subprocess.run(['samtools', 'index', filtered_output + 'sorted.bam'])\n"
   ]
  },
  {
   "cell_type": "code",
   "execution_count": 21,
   "metadata": {
    "scrolled": true
   },
   "outputs": [],
   "source": [
    "# step 5\n",
    "\n",
    "\n",
    "unfiltered = pysam.AlignmentFile(analysis_output + 'sorted.bam', 'r')\n",
    "filtered = pysam.AlignmentFile(filtered_output + 'sorted.bam', 'r')\n",
    "\n",
    "counts = []\n",
    "\n",
    "for i in range(0, base_count, 1000):\n",
    "    counts.append([\n",
    "        len(list(filtered.fetch('chromosome_1', i, i+2000))),\n",
    "        len(list(unfiltered.fetch('chromosome_1', i, i+2000)))\n",
    "    ])\n",
    "\n",
    "with open('output/window_counts.csv', 'w') as f:\n",
    "    for i in range(len(counts)):\n",
    "        f.write(','.join(map(str, [\n",
    "            i * 1000,\n",
    "            (i + 2) * 1000,\n",
    "            counts[i][0],\n",
    "            counts[i][1]\n",
    "        ])) + '\\n')"
   ]
  },
  {
   "cell_type": "code",
   "execution_count": null,
   "metadata": {},
   "outputs": [],
   "source": [
    "# create a 400 "
   ]
  }
 ],
 "metadata": {
  "kernelspec": {
   "display_name": "Python 3",
   "language": "python",
   "name": "python3"
  },
  "language_info": {
   "codemirror_mode": {
    "name": "ipython",
    "version": 3
   },
   "file_extension": ".py",
   "mimetype": "text/x-python",
   "name": "python",
   "nbconvert_exporter": "python",
   "pygments_lexer": "ipython3",
   "version": "3.6.9"
  }
 },
 "nbformat": 4,
 "nbformat_minor": 2
}
