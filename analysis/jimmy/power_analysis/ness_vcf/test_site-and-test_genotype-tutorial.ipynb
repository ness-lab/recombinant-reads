{
 "cells": [
  {
   "cell_type": "code",
   "execution_count": 1,
   "metadata": {
    "collapsed": true
   },
   "outputs": [],
   "source": [
    "from ness_vcf import ness_vcf\n",
    "import vcf"
   ]
  },
  {
   "cell_type": "markdown",
   "metadata": {},
   "source": [
    "This vcf filtering strategy uses the structure and language in PyVCF to create a flexible filtering strategy that is not specific to the idiosyncracies of the program that made that particular vcf\n",
    "\n",
    "It relies on naming the particular attributes and methods of `record` (single genome site) objects and `call` objects (single individual genotype call)\n",
    "\n",
    "It allows filtering of a whole record using the `test_site()` function or filtering indoividual genotype calls using the `test_genotype()` function"
   ]
  },
  {
   "cell_type": "markdown",
   "metadata": {},
   "source": [
    "## Test whole genome sites \n",
    "\n",
    "Sites in the genome are represented as individual rows in a vcf. Each row has predefined columns for various pieces of information. In pyVCF each row is converted to a `record` object. Each column of the VCF is accessible through this object"
   ]
  },
  {
   "cell_type": "code",
   "execution_count": 2,
   "metadata": {
    "collapsed": true
   },
   "outputs": [],
   "source": [
    "vr = vcf.Reader(filename='/scratch/research/projects/chlamydomonas/quebec/all/haplotypeCaller/new_assembly/all_quebec.HC.vcf.gz')"
   ]
  },
  {
   "cell_type": "code",
   "execution_count": 3,
   "metadata": {
    "collapsed": true
   },
   "outputs": [],
   "source": [
    "record = vr.fetch('chromosome_1', 1500000, 15000010).next()"
   ]
  },
  {
   "cell_type": "markdown",
   "metadata": {},
   "source": [
    "The information in each column is available as attributes of the record object:"
   ]
  },
  {
   "cell_type": "code",
   "execution_count": 4,
   "metadata": {
    "collapsed": false
   },
   "outputs": [
    {
     "name": "stdout",
     "output_type": "stream",
     "text": [
      "chromosome_1\n",
      "1500001\n",
      "C\n",
      "[None]\n"
     ]
    }
   ],
   "source": [
    "print record.CHROM\n",
    "print record.POS\n",
    "print record.REF\n",
    "print record.ALT\n"
   ]
  },
  {
   "cell_type": "markdown",
   "metadata": {},
   "source": [
    "and there are convenience methods of the record also available"
   ]
  },
  {
   "cell_type": "code",
   "execution_count": 5,
   "metadata": {
    "collapsed": false
   },
   "outputs": [
    {
     "name": "stdout",
     "output_type": "stream",
     "text": [
      "24\n",
      "0\n",
      "False\n"
     ]
    }
   ],
   "source": [
    "print record.num_called\n",
    "print record.num_het\n",
    "print record.is_snp"
   ]
  },
  {
   "cell_type": "markdown",
   "metadata": {},
   "source": [
    "Any of these peices of information can be built into a filter where you may want to say:\n",
    "\n",
    "If record is snp and the reference base is an A, ie:\n",
    "   \n",
    "       if record.is_snp ==True and record.REF ==A: \n",
    "\n",
    "You can instead make a dictionary that I call `recordAttribute_filters` where each test is built into a dictionary"
   ]
  },
  {
   "cell_type": "code",
   "execution_count": 6,
   "metadata": {
    "collapsed": true
   },
   "outputs": [],
   "source": [
    "recordAttribute_filters = {\"is_snp\": \"==True\", \"REF\": \"=='A'\"}\n",
    "\n",
    "# note that the A in =='A'  is in quotes - that is because python will pass that command "
   ]
  },
  {
   "cell_type": "markdown",
   "metadata": {},
   "source": [
    "You can access the 'nested' information in the INFO column using pyVCF in a slighlty different way"
   ]
  },
  {
   "cell_type": "code",
   "execution_count": 7,
   "metadata": {
    "collapsed": false
   },
   "outputs": [
    {
     "name": "stdout",
     "output_type": "stream",
     "text": [
      "989\n"
     ]
    }
   ],
   "source": [
    "print record.INFO['DP']"
   ]
  },
  {
   "cell_type": "markdown",
   "metadata": {},
   "source": [
    "You can therefore access the INFO attributes with another set of filters called `recordINFOfilters`"
   ]
  },
  {
   "cell_type": "code",
   "execution_count": 8,
   "metadata": {
    "collapsed": true
   },
   "outputs": [],
   "source": [
    "recordINFOfilters = {\"DP\": \">250\"}"
   ]
  },
  {
   "cell_type": "markdown",
   "metadata": {},
   "source": [
    "combining these filters you can test sites"
   ]
  },
  {
   "cell_type": "code",
   "execution_count": 9,
   "metadata": {
    "collapsed": false
   },
   "outputs": [
    {
     "name": "stdout",
     "output_type": "stream",
     "text": [
      "chromosome_1 1500050 A 1019\n",
      "chromosome_1 1500110 A 979\n",
      "chromosome_1 1500197 A 1008\n"
     ]
    }
   ],
   "source": [
    "for record in vr.fetch('chromosome_1', 1500000, 1500200):\n",
    "    if ness_vcf.test_site(record, recordAttribute_filters,recordINFOfilters ):\n",
    "        print record.CHROM, record.POS, record.REF, record.INFO['DP']\n",
    "    "
   ]
  },
  {
   "cell_type": "markdown",
   "metadata": {},
   "source": [
    "There is an additional option called `lenient` which means that if a filter doesn't exist for that site the program will ignore the filter on that site. This is relevant when you want to filter different kinds of sites differently especially when certain metrics only exist in special cases. eg. Allele Frequency `AF` is only defined for variable sites  \n",
    "\n",
    "If `lenient` is set to False the site will fail if the filter is nonexistent. This may lead to strange problems where you expect passing sites but get none. As a result I have created another option to go with `lenient` that prints the missing filter to the screen every time it happens. It is called `verbose` and its only really meant for debugging"
   ]
  },
  {
   "cell_type": "code",
   "execution_count": 19,
   "metadata": {
    "collapsed": true
   },
   "outputs": [],
   "source": [
    "recordAttribute_filters = {\"REF\": \"=='A'\"}\n",
    "recordINFOfilters = {\"DP\": \">250\", \"AF\": \">0.25\"}"
   ]
  },
  {
   "cell_type": "code",
   "execution_count": 20,
   "metadata": {
    "collapsed": false
   },
   "outputs": [
    {
     "name": "stdout",
     "output_type": "stream",
     "text": [
      "chromosome_1 1500010 A 914\n",
      "chromosome_1 1500019 A 981\n",
      "chromosome_1 1500022 A 997\n",
      "chromosome_1 1500024 A 997\n",
      "chromosome_1 1500027 A 1002\n",
      "chromosome_1 1500032 A 995\n",
      "chromosome_1 1500040 A 984\n",
      "chromosome_1 1500044 A 1010\n",
      "chromosome_1 1500047 A 994\n",
      "chromosome_1 1500048 A 1009\n",
      "chromosome_1 1500049 A 1006\n",
      "chromosome_1 1500050 A 1019\n",
      "chromosome_1 1500054 A 983\n",
      "chromosome_1 1500065 A 976\n",
      "chromosome_1 1500071 A 981\n",
      "chromosome_1 1500085 A 946\n",
      "chromosome_1 1500096 A 961\n"
     ]
    }
   ],
   "source": [
    "for record in vr.fetch('chromosome_1', 1500000, 1500100):\n",
    "    if ness_vcf.test_site(record, recordAttribute_filters,recordINFOfilters, lenient = True ):\n",
    "        print record.CHROM, record.POS, record.REF, record.INFO['DP']\n",
    "    "
   ]
  },
  {
   "cell_type": "code",
   "execution_count": 21,
   "metadata": {
    "collapsed": false
   },
   "outputs": [
    {
     "name": "stdout",
     "output_type": "stream",
     "text": [
      "chromosome_1 1500050 A 1019\n"
     ]
    },
    {
     "name": "stderr",
     "output_type": "stream",
     "text": [
      "AF does not exist in the INFO field of site chromosome_1:1500010 \n",
      "AF does not exist in the INFO field of site chromosome_1:1500019 \n",
      "AF does not exist in the INFO field of site chromosome_1:1500022 \n",
      "AF does not exist in the INFO field of site chromosome_1:1500024 \n",
      "AF does not exist in the INFO field of site chromosome_1:1500027 \n",
      "AF does not exist in the INFO field of site chromosome_1:1500032 \n",
      "AF does not exist in the INFO field of site chromosome_1:1500040 \n",
      "AF does not exist in the INFO field of site chromosome_1:1500044 \n",
      "AF does not exist in the INFO field of site chromosome_1:1500047 \n",
      "AF does not exist in the INFO field of site chromosome_1:1500048 \n",
      "AF does not exist in the INFO field of site chromosome_1:1500049 \n",
      "AF does not exist in the INFO field of site chromosome_1:1500054 \n",
      "AF does not exist in the INFO field of site chromosome_1:1500065 \n",
      "AF does not exist in the INFO field of site chromosome_1:1500071 \n",
      "AF does not exist in the INFO field of site chromosome_1:1500085 \n",
      "AF does not exist in the INFO field of site chromosome_1:1500096 \n"
     ]
    }
   ],
   "source": [
    "for record in vr.fetch('chromosome_1', 1500000, 1500100):\n",
    "    if ness_vcf.test_site(record, recordAttribute_filters,recordINFOfilters, lenient = False, verbose=True ):\n",
    "        print record.CHROM, record.POS, record.REF, record.INFO['DP']\n",
    "        "
   ]
  },
  {
   "cell_type": "markdown",
   "metadata": {},
   "source": [
    "# Testing individual Genotype calls\n",
    "In addition  properties of whole sites pyVCF also breaks down the information in the genotype calls (format field information). \n",
    "\n",
    "pyVCF provides access to the core attributes of a genotypecall"
   ]
  },
  {
   "cell_type": "code",
   "execution_count": 13,
   "metadata": {
    "collapsed": false
   },
   "outputs": [
    {
     "name": "stdout",
     "output_type": "stream",
     "text": [
      "1\n",
      "99\n",
      "53\n",
      "[0, 53]\n"
     ]
    }
   ],
   "source": [
    "sample_id= vr.samples[0]\n",
    "\n",
    "record = vr.fetch('chromosome_1', 1500049,1500050).next() \n",
    "\n",
    "call = record.genotype(sample_id)\n",
    "print call['GT']\n",
    "print call['GQ']\n",
    "print call['DP']\n",
    "print call['AD']"
   ]
  },
  {
   "cell_type": "markdown",
   "metadata": {},
   "source": [
    "It also provides a number of convenience methods of call objects"
   ]
  },
  {
   "cell_type": "code",
   "execution_count": 14,
   "metadata": {
    "collapsed": false
   },
   "outputs": [
    {
     "name": "stdout",
     "output_type": "stream",
     "text": [
      "False\n",
      "['1']\n",
      "T\n"
     ]
    }
   ],
   "source": [
    "print call.is_het\n",
    "print call.gt_alleles\n",
    "print call.gt_bases"
   ]
  },
  {
   "cell_type": "markdown",
   "metadata": {},
   "source": [
    "In a way similar to above you can create filters for individual sites using the `callFormat_filters` for the information access like this `call['FIELD']` and `callAttribute_filters` for information accessed like this `call.ATTRIBUTE`"
   ]
  },
  {
   "cell_type": "code",
   "execution_count": 22,
   "metadata": {
    "collapsed": false
   },
   "outputs": [],
   "source": [
    "callFormat_filters={\"DP\":\">5\", \"GQ\" : \">30\", \"RGQ\" : \">0\"}\n",
    "callAttribute_filters={'called': \"==True\", \"is_variant\": \"== True\"}\n"
   ]
  },
  {
   "cell_type": "code",
   "execution_count": 23,
   "metadata": {
    "collapsed": false
   },
   "outputs": [
    {
     "name": "stdout",
     "output_type": "stream",
     "text": [
      "chromosome_1 1500010 A 914\n",
      "chromosome_1 1500019 A 981\n",
      "chromosome_1 1500022 A 997\n",
      "chromosome_1 1500024 A 997\n",
      "chromosome_1 1500027 A 1002\n",
      "chromosome_1 1500032 A 995\n",
      "chromosome_1 1500040 A 984\n",
      "chromosome_1 1500044 A 1010\n",
      "chromosome_1 1500047 A 994\n",
      "chromosome_1 1500048 A 1009\n",
      "chromosome_1 1500049 A 1006\n",
      "chromosome_1 1500050 A 1019\n",
      "\t\tCC2935 T\n",
      "\t\tCC2936 T\n",
      "\t\tCC2937 T\n",
      "\t\tCC3059 T\n",
      "\t\tCC3060 T\n",
      "\t\tCC3061 T\n",
      "\t\tCC3062 T\n",
      "\t\tCC3063 T\n",
      "\t\tCC3064 T\n",
      "\t\tCC3065 T\n",
      "\t\tCC3068 T\n",
      "\t\tCC3069 T\n",
      "\t\tCC3071 T\n",
      "\t\tCC3073 T\n",
      "\t\tCC3076 T\n",
      "\t\tCC3082 T\n",
      "\t\tCC3083 T\n",
      "\t\tCC3084 T\n",
      "\t\tCC3086 T\n",
      "chromosome_1 1500054 A 983\n",
      "chromosome_1 1500065 A 976\n",
      "chromosome_1 1500071 A 981\n",
      "chromosome_1 1500085 A 946\n",
      "chromosome_1 1500096 A 961\n"
     ]
    }
   ],
   "source": [
    "for record in vr.fetch('chromosome_1', 1500000, 1500100):\n",
    "    if ness_vcf.test_site(record, recordAttribute_filters,recordINFOfilters, lenient = True):\n",
    "        print record.CHROM, record.POS, record.REF, record.INFO['DP']\n",
    "        for call in record.samples:\n",
    "            if ness_vcf.test_genotype(call,callFormat_filters, callAttribute_filters ):\n",
    "                print \"\\t\\t\", call.sample, call.gt_bases\n",
    "                "
   ]
  },
  {
   "cell_type": "markdown",
   "metadata": {},
   "source": [
    "The `lenient` and `verbose` options are also available for the `test_genotype()` function"
   ]
  },
  {
   "cell_type": "code",
   "execution_count": 24,
   "metadata": {
    "collapsed": false
   },
   "outputs": [
    {
     "name": "stdout",
     "output_type": "stream",
     "text": [
      "chromosome_1 1500010 A 914\n",
      "chromosome_1 1500019 A 981\n",
      "chromosome_1 1500022 A 997\n",
      "chromosome_1 1500024 A 997\n",
      "chromosome_1 1500027 A 1002\n",
      "chromosome_1 1500032 A 995\n",
      "chromosome_1 1500040 A 984\n",
      "chromosome_1 1500044 A 1010\n",
      "chromosome_1 1500047 A 994\n",
      "chromosome_1 1500048 A 1009\n",
      "chromosome_1 1500049 A 1006\n",
      "chromosome_1 1500050 A 1019\n",
      "chromosome_1 1500054 A 983\n",
      "chromosome_1 1500065 A 976\n",
      "chromosome_1 1500071 A 981\n",
      "chromosome_1 1500085 A 946\n",
      "chromosome_1 1500096 A 961\n"
     ]
    },
    {
     "name": "stderr",
     "output_type": "stream",
     "text": [
      "GQ does not exist in genotype CC2935 at site chromosome_1:1500010 \n",
      "GQ does not exist in genotype CC2936 at site chromosome_1:1500010 \n",
      "GQ does not exist in genotype CC2937 at site chromosome_1:1500010 \n",
      "GQ does not exist in genotype CC2938 at site chromosome_1:1500010 \n",
      "GQ does not exist in genotype CC3059 at site chromosome_1:1500010 \n",
      "GQ does not exist in genotype CC3060 at site chromosome_1:1500010 \n",
      "GQ does not exist in genotype CC3061 at site chromosome_1:1500010 \n",
      "GQ does not exist in genotype CC3062 at site chromosome_1:1500010 \n",
      "GQ does not exist in genotype CC3063 at site chromosome_1:1500010 \n",
      "GQ does not exist in genotype CC3064 at site chromosome_1:1500010 \n",
      "GQ does not exist in genotype CC3065 at site chromosome_1:1500010 \n",
      "GQ does not exist in genotype CC3068 at site chromosome_1:1500010 \n",
      "GQ does not exist in genotype CC3069 at site chromosome_1:1500010 \n",
      "GQ does not exist in genotype CC3071 at site chromosome_1:1500010 \n",
      "GQ does not exist in genotype CC3072 at site chromosome_1:1500010 \n",
      "GQ does not exist in genotype CC3073 at site chromosome_1:1500010 \n",
      "GQ does not exist in genotype CC3075 at site chromosome_1:1500010 \n",
      "GQ does not exist in genotype CC3076 at site chromosome_1:1500010 \n",
      "GQ does not exist in genotype CC3078 at site chromosome_1:1500010 \n",
      "GQ does not exist in genotype CC3079 at site chromosome_1:1500010 \n",
      "GQ does not exist in genotype CC3082 at site chromosome_1:1500010 \n",
      "GQ does not exist in genotype CC3083 at site chromosome_1:1500010 \n",
      "GQ does not exist in genotype CC3084 at site chromosome_1:1500010 \n",
      "GQ does not exist in genotype CC3086 at site chromosome_1:1500010 \n",
      "GQ does not exist in genotype CC2935 at site chromosome_1:1500019 \n",
      "GQ does not exist in genotype CC2936 at site chromosome_1:1500019 \n",
      "GQ does not exist in genotype CC2937 at site chromosome_1:1500019 \n",
      "GQ does not exist in genotype CC2938 at site chromosome_1:1500019 \n",
      "GQ does not exist in genotype CC3059 at site chromosome_1:1500019 \n",
      "GQ does not exist in genotype CC3060 at site chromosome_1:1500019 \n",
      "GQ does not exist in genotype CC3061 at site chromosome_1:1500019 \n",
      "GQ does not exist in genotype CC3062 at site chromosome_1:1500019 \n",
      "GQ does not exist in genotype CC3063 at site chromosome_1:1500019 \n",
      "GQ does not exist in genotype CC3064 at site chromosome_1:1500019 \n",
      "GQ does not exist in genotype CC3065 at site chromosome_1:1500019 \n",
      "GQ does not exist in genotype CC3068 at site chromosome_1:1500019 \n",
      "GQ does not exist in genotype CC3069 at site chromosome_1:1500019 \n",
      "GQ does not exist in genotype CC3071 at site chromosome_1:1500019 \n",
      "GQ does not exist in genotype CC3072 at site chromosome_1:1500019 \n",
      "GQ does not exist in genotype CC3073 at site chromosome_1:1500019 \n",
      "GQ does not exist in genotype CC3075 at site chromosome_1:1500019 \n",
      "GQ does not exist in genotype CC3076 at site chromosome_1:1500019 \n",
      "GQ does not exist in genotype CC3078 at site chromosome_1:1500019 \n",
      "GQ does not exist in genotype CC3079 at site chromosome_1:1500019 \n",
      "GQ does not exist in genotype CC3082 at site chromosome_1:1500019 \n",
      "GQ does not exist in genotype CC3083 at site chromosome_1:1500019 \n",
      "GQ does not exist in genotype CC3084 at site chromosome_1:1500019 \n",
      "GQ does not exist in genotype CC3086 at site chromosome_1:1500019 \n",
      "GQ does not exist in genotype CC2935 at site chromosome_1:1500022 \n",
      "GQ does not exist in genotype CC2936 at site chromosome_1:1500022 \n",
      "GQ does not exist in genotype CC2937 at site chromosome_1:1500022 \n",
      "GQ does not exist in genotype CC2938 at site chromosome_1:1500022 \n",
      "GQ does not exist in genotype CC3059 at site chromosome_1:1500022 \n",
      "GQ does not exist in genotype CC3060 at site chromosome_1:1500022 \n",
      "GQ does not exist in genotype CC3061 at site chromosome_1:1500022 \n",
      "GQ does not exist in genotype CC3062 at site chromosome_1:1500022 \n",
      "GQ does not exist in genotype CC3063 at site chromosome_1:1500022 \n",
      "GQ does not exist in genotype CC3064 at site chromosome_1:1500022 \n",
      "GQ does not exist in genotype CC3065 at site chromosome_1:1500022 \n",
      "GQ does not exist in genotype CC3068 at site chromosome_1:1500022 \n",
      "GQ does not exist in genotype CC3069 at site chromosome_1:1500022 \n",
      "GQ does not exist in genotype CC3071 at site chromosome_1:1500022 \n",
      "GQ does not exist in genotype CC3072 at site chromosome_1:1500022 \n",
      "GQ does not exist in genotype CC3073 at site chromosome_1:1500022 \n",
      "GQ does not exist in genotype CC3075 at site chromosome_1:1500022 \n",
      "GQ does not exist in genotype CC3076 at site chromosome_1:1500022 \n",
      "GQ does not exist in genotype CC3078 at site chromosome_1:1500022 \n",
      "GQ does not exist in genotype CC3079 at site chromosome_1:1500022 \n",
      "GQ does not exist in genotype CC3082 at site chromosome_1:1500022 \n",
      "GQ does not exist in genotype CC3083 at site chromosome_1:1500022 \n",
      "GQ does not exist in genotype CC3084 at site chromosome_1:1500022 \n",
      "GQ does not exist in genotype CC3086 at site chromosome_1:1500022 \n",
      "GQ does not exist in genotype CC2935 at site chromosome_1:1500024 \n",
      "GQ does not exist in genotype CC2936 at site chromosome_1:1500024 \n",
      "GQ does not exist in genotype CC2937 at site chromosome_1:1500024 \n",
      "GQ does not exist in genotype CC2938 at site chromosome_1:1500024 \n",
      "GQ does not exist in genotype CC3059 at site chromosome_1:1500024 \n",
      "GQ does not exist in genotype CC3060 at site chromosome_1:1500024 \n",
      "GQ does not exist in genotype CC3061 at site chromosome_1:1500024 \n",
      "GQ does not exist in genotype CC3062 at site chromosome_1:1500024 \n",
      "GQ does not exist in genotype CC3063 at site chromosome_1:1500024 \n",
      "GQ does not exist in genotype CC3064 at site chromosome_1:1500024 \n",
      "GQ does not exist in genotype CC3065 at site chromosome_1:1500024 \n",
      "GQ does not exist in genotype CC3068 at site chromosome_1:1500024 \n",
      "GQ does not exist in genotype CC3069 at site chromosome_1:1500024 \n",
      "GQ does not exist in genotype CC3071 at site chromosome_1:1500024 \n",
      "GQ does not exist in genotype CC3072 at site chromosome_1:1500024 \n",
      "GQ does not exist in genotype CC3073 at site chromosome_1:1500024 \n",
      "GQ does not exist in genotype CC3075 at site chromosome_1:1500024 \n",
      "GQ does not exist in genotype CC3076 at site chromosome_1:1500024 \n",
      "GQ does not exist in genotype CC3078 at site chromosome_1:1500024 \n",
      "GQ does not exist in genotype CC3079 at site chromosome_1:1500024 \n",
      "GQ does not exist in genotype CC3082 at site chromosome_1:1500024 \n",
      "GQ does not exist in genotype CC3083 at site chromosome_1:1500024 \n",
      "GQ does not exist in genotype CC3084 at site chromosome_1:1500024 \n",
      "GQ does not exist in genotype CC3086 at site chromosome_1:1500024 \n",
      "GQ does not exist in genotype CC2935 at site chromosome_1:1500027 \n",
      "GQ does not exist in genotype CC2936 at site chromosome_1:1500027 \n",
      "GQ does not exist in genotype CC2937 at site chromosome_1:1500027 \n",
      "GQ does not exist in genotype CC2938 at site chromosome_1:1500027 \n",
      "GQ does not exist in genotype CC3059 at site chromosome_1:1500027 \n",
      "GQ does not exist in genotype CC3060 at site chromosome_1:1500027 \n",
      "GQ does not exist in genotype CC3061 at site chromosome_1:1500027 \n",
      "GQ does not exist in genotype CC3062 at site chromosome_1:1500027 \n",
      "GQ does not exist in genotype CC3063 at site chromosome_1:1500027 \n",
      "GQ does not exist in genotype CC3064 at site chromosome_1:1500027 \n",
      "GQ does not exist in genotype CC3065 at site chromosome_1:1500027 \n",
      "GQ does not exist in genotype CC3068 at site chromosome_1:1500027 \n",
      "GQ does not exist in genotype CC3069 at site chromosome_1:1500027 \n",
      "GQ does not exist in genotype CC3071 at site chromosome_1:1500027 \n",
      "GQ does not exist in genotype CC3072 at site chromosome_1:1500027 \n",
      "GQ does not exist in genotype CC3073 at site chromosome_1:1500027 \n",
      "GQ does not exist in genotype CC3075 at site chromosome_1:1500027 \n",
      "GQ does not exist in genotype CC3076 at site chromosome_1:1500027 \n",
      "GQ does not exist in genotype CC3078 at site chromosome_1:1500027 \n",
      "GQ does not exist in genotype CC3079 at site chromosome_1:1500027 \n",
      "GQ does not exist in genotype CC3082 at site chromosome_1:1500027 \n",
      "GQ does not exist in genotype CC3083 at site chromosome_1:1500027 \n",
      "GQ does not exist in genotype CC3084 at site chromosome_1:1500027 \n",
      "GQ does not exist in genotype CC3086 at site chromosome_1:1500027 \n",
      "GQ does not exist in genotype CC2935 at site chromosome_1:1500032 \n",
      "GQ does not exist in genotype CC2936 at site chromosome_1:1500032 \n",
      "GQ does not exist in genotype CC2937 at site chromosome_1:1500032 \n",
      "GQ does not exist in genotype CC2938 at site chromosome_1:1500032 \n",
      "GQ does not exist in genotype CC3059 at site chromosome_1:1500032 \n",
      "GQ does not exist in genotype CC3060 at site chromosome_1:1500032 \n",
      "GQ does not exist in genotype CC3061 at site chromosome_1:1500032 \n",
      "GQ does not exist in genotype CC3062 at site chromosome_1:1500032 \n",
      "GQ does not exist in genotype CC3063 at site chromosome_1:1500032 \n",
      "GQ does not exist in genotype CC3064 at site chromosome_1:1500032 \n",
      "GQ does not exist in genotype CC3065 at site chromosome_1:1500032 \n",
      "GQ does not exist in genotype CC3068 at site chromosome_1:1500032 \n",
      "GQ does not exist in genotype CC3069 at site chromosome_1:1500032 \n",
      "GQ does not exist in genotype CC3071 at site chromosome_1:1500032 \n",
      "GQ does not exist in genotype CC3072 at site chromosome_1:1500032 \n",
      "GQ does not exist in genotype CC3073 at site chromosome_1:1500032 \n",
      "GQ does not exist in genotype CC3075 at site chromosome_1:1500032 \n",
      "GQ does not exist in genotype CC3076 at site chromosome_1:1500032 \n",
      "GQ does not exist in genotype CC3078 at site chromosome_1:1500032 \n",
      "GQ does not exist in genotype CC3079 at site chromosome_1:1500032 \n",
      "GQ does not exist in genotype CC3082 at site chromosome_1:1500032 \n",
      "GQ does not exist in genotype CC3083 at site chromosome_1:1500032 \n",
      "GQ does not exist in genotype CC3084 at site chromosome_1:1500032 \n",
      "GQ does not exist in genotype CC3086 at site chromosome_1:1500032 \n",
      "GQ does not exist in genotype CC2935 at site chromosome_1:1500040 \n",
      "GQ does not exist in genotype CC2936 at site chromosome_1:1500040 \n",
      "GQ does not exist in genotype CC2937 at site chromosome_1:1500040 \n",
      "GQ does not exist in genotype CC2938 at site chromosome_1:1500040 \n",
      "GQ does not exist in genotype CC3059 at site chromosome_1:1500040 \n",
      "GQ does not exist in genotype CC3060 at site chromosome_1:1500040 \n",
      "GQ does not exist in genotype CC3061 at site chromosome_1:1500040 \n",
      "GQ does not exist in genotype CC3062 at site chromosome_1:1500040 \n",
      "GQ does not exist in genotype CC3063 at site chromosome_1:1500040 \n",
      "GQ does not exist in genotype CC3064 at site chromosome_1:1500040 \n",
      "GQ does not exist in genotype CC3065 at site chromosome_1:1500040 \n",
      "GQ does not exist in genotype CC3068 at site chromosome_1:1500040 \n",
      "GQ does not exist in genotype CC3069 at site chromosome_1:1500040 \n",
      "GQ does not exist in genotype CC3071 at site chromosome_1:1500040 \n",
      "GQ does not exist in genotype CC3072 at site chromosome_1:1500040 \n",
      "GQ does not exist in genotype CC3073 at site chromosome_1:1500040 \n",
      "GQ does not exist in genotype CC3075 at site chromosome_1:1500040 \n",
      "GQ does not exist in genotype CC3076 at site chromosome_1:1500040 \n",
      "GQ does not exist in genotype CC3078 at site chromosome_1:1500040 \n",
      "GQ does not exist in genotype CC3079 at site chromosome_1:1500040 \n",
      "GQ does not exist in genotype CC3082 at site chromosome_1:1500040 \n",
      "GQ does not exist in genotype CC3083 at site chromosome_1:1500040 \n",
      "GQ does not exist in genotype CC3084 at site chromosome_1:1500040 \n",
      "GQ does not exist in genotype CC3086 at site chromosome_1:1500040 \n",
      "GQ does not exist in genotype CC2935 at site chromosome_1:1500044 \n",
      "GQ does not exist in genotype CC2936 at site chromosome_1:1500044 \n",
      "GQ does not exist in genotype CC2937 at site chromosome_1:1500044 \n",
      "GQ does not exist in genotype CC2938 at site chromosome_1:1500044 \n",
      "GQ does not exist in genotype CC3059 at site chromosome_1:1500044 \n",
      "GQ does not exist in genotype CC3060 at site chromosome_1:1500044 \n",
      "GQ does not exist in genotype CC3061 at site chromosome_1:1500044 \n",
      "GQ does not exist in genotype CC3062 at site chromosome_1:1500044 \n",
      "GQ does not exist in genotype CC3063 at site chromosome_1:1500044 \n",
      "GQ does not exist in genotype CC3064 at site chromosome_1:1500044 \n",
      "GQ does not exist in genotype CC3065 at site chromosome_1:1500044 \n",
      "GQ does not exist in genotype CC3068 at site chromosome_1:1500044 \n",
      "GQ does not exist in genotype CC3069 at site chromosome_1:1500044 \n",
      "GQ does not exist in genotype CC3071 at site chromosome_1:1500044 \n",
      "GQ does not exist in genotype CC3072 at site chromosome_1:1500044 \n",
      "GQ does not exist in genotype CC3073 at site chromosome_1:1500044 \n",
      "GQ does not exist in genotype CC3075 at site chromosome_1:1500044 \n",
      "GQ does not exist in genotype CC3076 at site chromosome_1:1500044 \n",
      "GQ does not exist in genotype CC3078 at site chromosome_1:1500044 \n",
      "GQ does not exist in genotype CC3079 at site chromosome_1:1500044 \n",
      "GQ does not exist in genotype CC3082 at site chromosome_1:1500044 \n",
      "GQ does not exist in genotype CC3083 at site chromosome_1:1500044 \n",
      "GQ does not exist in genotype CC3084 at site chromosome_1:1500044 \n",
      "GQ does not exist in genotype CC3086 at site chromosome_1:1500044 \n",
      "GQ does not exist in genotype CC2935 at site chromosome_1:1500047 \n",
      "GQ does not exist in genotype CC2936 at site chromosome_1:1500047 \n",
      "GQ does not exist in genotype CC2937 at site chromosome_1:1500047 \n",
      "GQ does not exist in genotype CC2938 at site chromosome_1:1500047 \n",
      "GQ does not exist in genotype CC3059 at site chromosome_1:1500047 \n",
      "GQ does not exist in genotype CC3060 at site chromosome_1:1500047 \n",
      "GQ does not exist in genotype CC3061 at site chromosome_1:1500047 \n",
      "GQ does not exist in genotype CC3062 at site chromosome_1:1500047 \n",
      "GQ does not exist in genotype CC3063 at site chromosome_1:1500047 \n",
      "GQ does not exist in genotype CC3064 at site chromosome_1:1500047 \n",
      "GQ does not exist in genotype CC3065 at site chromosome_1:1500047 \n",
      "GQ does not exist in genotype CC3068 at site chromosome_1:1500047 \n",
      "GQ does not exist in genotype CC3069 at site chromosome_1:1500047 \n",
      "GQ does not exist in genotype CC3071 at site chromosome_1:1500047 \n",
      "GQ does not exist in genotype CC3072 at site chromosome_1:1500047 \n",
      "GQ does not exist in genotype CC3073 at site chromosome_1:1500047 \n",
      "GQ does not exist in genotype CC3075 at site chromosome_1:1500047 \n",
      "GQ does not exist in genotype CC3076 at site chromosome_1:1500047 \n",
      "GQ does not exist in genotype CC3078 at site chromosome_1:1500047 \n",
      "GQ does not exist in genotype CC3079 at site chromosome_1:1500047 \n",
      "GQ does not exist in genotype CC3082 at site chromosome_1:1500047 \n",
      "GQ does not exist in genotype CC3083 at site chromosome_1:1500047 \n",
      "GQ does not exist in genotype CC3084 at site chromosome_1:1500047 \n",
      "GQ does not exist in genotype CC3086 at site chromosome_1:1500047 \n",
      "GQ does not exist in genotype CC2935 at site chromosome_1:1500048 \n",
      "GQ does not exist in genotype CC2936 at site chromosome_1:1500048 \n",
      "GQ does not exist in genotype CC2937 at site chromosome_1:1500048 \n",
      "GQ does not exist in genotype CC2938 at site chromosome_1:1500048 \n",
      "GQ does not exist in genotype CC3059 at site chromosome_1:1500048 \n",
      "GQ does not exist in genotype CC3060 at site chromosome_1:1500048 \n",
      "GQ does not exist in genotype CC3061 at site chromosome_1:1500048 \n",
      "GQ does not exist in genotype CC3062 at site chromosome_1:1500048 \n",
      "GQ does not exist in genotype CC3063 at site chromosome_1:1500048 \n",
      "GQ does not exist in genotype CC3064 at site chromosome_1:1500048 \n",
      "GQ does not exist in genotype CC3065 at site chromosome_1:1500048 \n",
      "GQ does not exist in genotype CC3068 at site chromosome_1:1500048 \n",
      "GQ does not exist in genotype CC3069 at site chromosome_1:1500048 \n",
      "GQ does not exist in genotype CC3071 at site chromosome_1:1500048 \n",
      "GQ does not exist in genotype CC3072 at site chromosome_1:1500048 \n",
      "GQ does not exist in genotype CC3073 at site chromosome_1:1500048 \n",
      "GQ does not exist in genotype CC3075 at site chromosome_1:1500048 \n",
      "GQ does not exist in genotype CC3076 at site chromosome_1:1500048 \n",
      "GQ does not exist in genotype CC3078 at site chromosome_1:1500048 \n",
      "GQ does not exist in genotype CC3079 at site chromosome_1:1500048 \n",
      "GQ does not exist in genotype CC3082 at site chromosome_1:1500048 \n",
      "GQ does not exist in genotype CC3083 at site chromosome_1:1500048 \n",
      "GQ does not exist in genotype CC3084 at site chromosome_1:1500048 \n",
      "GQ does not exist in genotype CC3086 at site chromosome_1:1500048 \n",
      "GQ does not exist in genotype CC2935 at site chromosome_1:1500049 \n",
      "GQ does not exist in genotype CC2936 at site chromosome_1:1500049 \n",
      "GQ does not exist in genotype CC2937 at site chromosome_1:1500049 \n",
      "GQ does not exist in genotype CC3059 at site chromosome_1:1500049 \n",
      "GQ does not exist in genotype CC3060 at site chromosome_1:1500049 \n",
      "GQ does not exist in genotype CC3061 at site chromosome_1:1500049 \n",
      "GQ does not exist in genotype CC3062 at site chromosome_1:1500049 \n",
      "GQ does not exist in genotype CC3063 at site chromosome_1:1500049 \n",
      "GQ does not exist in genotype CC3064 at site chromosome_1:1500049 \n",
      "GQ does not exist in genotype CC3065 at site chromosome_1:1500049 \n",
      "GQ does not exist in genotype CC3068 at site chromosome_1:1500049 \n",
      "GQ does not exist in genotype CC3069 at site chromosome_1:1500049 \n",
      "GQ does not exist in genotype CC3071 at site chromosome_1:1500049 \n",
      "GQ does not exist in genotype CC3072 at site chromosome_1:1500049 \n",
      "GQ does not exist in genotype CC3073 at site chromosome_1:1500049 \n",
      "GQ does not exist in genotype CC3075 at site chromosome_1:1500049 \n",
      "GQ does not exist in genotype CC3076 at site chromosome_1:1500049 \n",
      "GQ does not exist in genotype CC3078 at site chromosome_1:1500049 \n",
      "GQ does not exist in genotype CC3079 at site chromosome_1:1500049 \n",
      "GQ does not exist in genotype CC3082 at site chromosome_1:1500049 \n",
      "GQ does not exist in genotype CC3083 at site chromosome_1:1500049 \n",
      "GQ does not exist in genotype CC3084 at site chromosome_1:1500049 \n",
      "GQ does not exist in genotype CC3086 at site chromosome_1:1500049 \n",
      "RGQ does not exist in genotype CC2935 at site chromosome_1:1500050 \n",
      "RGQ does not exist in genotype CC2936 at site chromosome_1:1500050 \n",
      "RGQ does not exist in genotype CC2937 at site chromosome_1:1500050 \n",
      "RGQ does not exist in genotype CC3059 at site chromosome_1:1500050 \n",
      "RGQ does not exist in genotype CC3060 at site chromosome_1:1500050 \n",
      "RGQ does not exist in genotype CC3061 at site chromosome_1:1500050 \n",
      "RGQ does not exist in genotype CC3062 at site chromosome_1:1500050 \n",
      "RGQ does not exist in genotype CC3063 at site chromosome_1:1500050 \n",
      "RGQ does not exist in genotype CC3064 at site chromosome_1:1500050 \n",
      "RGQ does not exist in genotype CC3065 at site chromosome_1:1500050 \n",
      "RGQ does not exist in genotype CC3068 at site chromosome_1:1500050 \n",
      "RGQ does not exist in genotype CC3069 at site chromosome_1:1500050 \n",
      "RGQ does not exist in genotype CC3071 at site chromosome_1:1500050 \n",
      "RGQ does not exist in genotype CC3072 at site chromosome_1:1500050 \n",
      "RGQ does not exist in genotype CC3073 at site chromosome_1:1500050 \n",
      "RGQ does not exist in genotype CC3075 at site chromosome_1:1500050 \n",
      "RGQ does not exist in genotype CC3076 at site chromosome_1:1500050 \n",
      "RGQ does not exist in genotype CC3078 at site chromosome_1:1500050 \n",
      "RGQ does not exist in genotype CC3079 at site chromosome_1:1500050 \n",
      "RGQ does not exist in genotype CC3082 at site chromosome_1:1500050 \n",
      "RGQ does not exist in genotype CC3083 at site chromosome_1:1500050 \n",
      "RGQ does not exist in genotype CC3084 at site chromosome_1:1500050 \n",
      "RGQ does not exist in genotype CC3086 at site chromosome_1:1500050 \n",
      "GQ does not exist in genotype CC2935 at site chromosome_1:1500054 \n",
      "GQ does not exist in genotype CC2936 at site chromosome_1:1500054 \n",
      "GQ does not exist in genotype CC2937 at site chromosome_1:1500054 \n",
      "GQ does not exist in genotype CC3059 at site chromosome_1:1500054 \n",
      "GQ does not exist in genotype CC3060 at site chromosome_1:1500054 \n",
      "GQ does not exist in genotype CC3061 at site chromosome_1:1500054 \n",
      "GQ does not exist in genotype CC3062 at site chromosome_1:1500054 \n",
      "GQ does not exist in genotype CC3063 at site chromosome_1:1500054 \n",
      "GQ does not exist in genotype CC3064 at site chromosome_1:1500054 \n",
      "GQ does not exist in genotype CC3065 at site chromosome_1:1500054 \n",
      "GQ does not exist in genotype CC3068 at site chromosome_1:1500054 \n",
      "GQ does not exist in genotype CC3069 at site chromosome_1:1500054 \n",
      "GQ does not exist in genotype CC3071 at site chromosome_1:1500054 \n",
      "GQ does not exist in genotype CC3072 at site chromosome_1:1500054 \n",
      "GQ does not exist in genotype CC3073 at site chromosome_1:1500054 \n",
      "GQ does not exist in genotype CC3075 at site chromosome_1:1500054 \n",
      "GQ does not exist in genotype CC3076 at site chromosome_1:1500054 \n",
      "GQ does not exist in genotype CC3078 at site chromosome_1:1500054 \n",
      "GQ does not exist in genotype CC3079 at site chromosome_1:1500054 \n",
      "GQ does not exist in genotype CC3082 at site chromosome_1:1500054 \n",
      "GQ does not exist in genotype CC3083 at site chromosome_1:1500054 \n",
      "GQ does not exist in genotype CC3084 at site chromosome_1:1500054 \n",
      "GQ does not exist in genotype CC3086 at site chromosome_1:1500054 \n",
      "GQ does not exist in genotype CC2935 at site chromosome_1:1500065 \n",
      "GQ does not exist in genotype CC2936 at site chromosome_1:1500065 \n",
      "GQ does not exist in genotype CC2937 at site chromosome_1:1500065 \n",
      "GQ does not exist in genotype CC3059 at site chromosome_1:1500065 \n",
      "GQ does not exist in genotype CC3060 at site chromosome_1:1500065 \n",
      "GQ does not exist in genotype CC3061 at site chromosome_1:1500065 \n",
      "GQ does not exist in genotype CC3062 at site chromosome_1:1500065 \n",
      "GQ does not exist in genotype CC3063 at site chromosome_1:1500065 \n",
      "GQ does not exist in genotype CC3064 at site chromosome_1:1500065 \n",
      "GQ does not exist in genotype CC3065 at site chromosome_1:1500065 \n",
      "GQ does not exist in genotype CC3068 at site chromosome_1:1500065 \n",
      "GQ does not exist in genotype CC3069 at site chromosome_1:1500065 \n",
      "GQ does not exist in genotype CC3071 at site chromosome_1:1500065 \n",
      "GQ does not exist in genotype CC3072 at site chromosome_1:1500065 \n",
      "GQ does not exist in genotype CC3073 at site chromosome_1:1500065 \n",
      "GQ does not exist in genotype CC3075 at site chromosome_1:1500065 \n",
      "GQ does not exist in genotype CC3076 at site chromosome_1:1500065 \n",
      "GQ does not exist in genotype CC3078 at site chromosome_1:1500065 \n",
      "GQ does not exist in genotype CC3079 at site chromosome_1:1500065 \n",
      "GQ does not exist in genotype CC3082 at site chromosome_1:1500065 \n",
      "GQ does not exist in genotype CC3083 at site chromosome_1:1500065 \n",
      "GQ does not exist in genotype CC3084 at site chromosome_1:1500065 \n",
      "GQ does not exist in genotype CC3086 at site chromosome_1:1500065 \n",
      "GQ does not exist in genotype CC2935 at site chromosome_1:1500071 \n",
      "GQ does not exist in genotype CC2936 at site chromosome_1:1500071 \n",
      "GQ does not exist in genotype CC2937 at site chromosome_1:1500071 \n",
      "GQ does not exist in genotype CC2938 at site chromosome_1:1500071 \n",
      "GQ does not exist in genotype CC3059 at site chromosome_1:1500071 \n",
      "GQ does not exist in genotype CC3060 at site chromosome_1:1500071 \n",
      "GQ does not exist in genotype CC3061 at site chromosome_1:1500071 \n",
      "GQ does not exist in genotype CC3062 at site chromosome_1:1500071 \n",
      "GQ does not exist in genotype CC3063 at site chromosome_1:1500071 \n",
      "GQ does not exist in genotype CC3064 at site chromosome_1:1500071 \n",
      "GQ does not exist in genotype CC3065 at site chromosome_1:1500071 \n",
      "GQ does not exist in genotype CC3068 at site chromosome_1:1500071 \n",
      "GQ does not exist in genotype CC3069 at site chromosome_1:1500071 \n",
      "GQ does not exist in genotype CC3071 at site chromosome_1:1500071 \n",
      "GQ does not exist in genotype CC3072 at site chromosome_1:1500071 \n",
      "GQ does not exist in genotype CC3073 at site chromosome_1:1500071 \n",
      "GQ does not exist in genotype CC3075 at site chromosome_1:1500071 \n",
      "GQ does not exist in genotype CC3076 at site chromosome_1:1500071 \n",
      "GQ does not exist in genotype CC3078 at site chromosome_1:1500071 \n",
      "GQ does not exist in genotype CC3079 at site chromosome_1:1500071 \n",
      "GQ does not exist in genotype CC3082 at site chromosome_1:1500071 \n",
      "GQ does not exist in genotype CC3083 at site chromosome_1:1500071 \n",
      "GQ does not exist in genotype CC3084 at site chromosome_1:1500071 \n",
      "GQ does not exist in genotype CC3086 at site chromosome_1:1500071 \n",
      "GQ does not exist in genotype CC2935 at site chromosome_1:1500085 \n",
      "GQ does not exist in genotype CC2936 at site chromosome_1:1500085 \n",
      "GQ does not exist in genotype CC2937 at site chromosome_1:1500085 \n",
      "GQ does not exist in genotype CC2938 at site chromosome_1:1500085 \n",
      "GQ does not exist in genotype CC3059 at site chromosome_1:1500085 \n",
      "GQ does not exist in genotype CC3060 at site chromosome_1:1500085 \n",
      "GQ does not exist in genotype CC3061 at site chromosome_1:1500085 \n",
      "GQ does not exist in genotype CC3062 at site chromosome_1:1500085 \n",
      "GQ does not exist in genotype CC3063 at site chromosome_1:1500085 \n",
      "GQ does not exist in genotype CC3064 at site chromosome_1:1500085 \n",
      "GQ does not exist in genotype CC3065 at site chromosome_1:1500085 \n",
      "GQ does not exist in genotype CC3068 at site chromosome_1:1500085 \n",
      "GQ does not exist in genotype CC3069 at site chromosome_1:1500085 \n",
      "GQ does not exist in genotype CC3071 at site chromosome_1:1500085 \n",
      "GQ does not exist in genotype CC3072 at site chromosome_1:1500085 \n",
      "GQ does not exist in genotype CC3073 at site chromosome_1:1500085 \n",
      "GQ does not exist in genotype CC3075 at site chromosome_1:1500085 \n",
      "GQ does not exist in genotype CC3076 at site chromosome_1:1500085 \n",
      "GQ does not exist in genotype CC3078 at site chromosome_1:1500085 \n",
      "GQ does not exist in genotype CC3079 at site chromosome_1:1500085 \n",
      "GQ does not exist in genotype CC3082 at site chromosome_1:1500085 \n",
      "GQ does not exist in genotype CC3083 at site chromosome_1:1500085 \n",
      "GQ does not exist in genotype CC3084 at site chromosome_1:1500085 \n",
      "GQ does not exist in genotype CC3086 at site chromosome_1:1500085 \n",
      "GQ does not exist in genotype CC2935 at site chromosome_1:1500096 \n",
      "GQ does not exist in genotype CC2936 at site chromosome_1:1500096 \n",
      "GQ does not exist in genotype CC2937 at site chromosome_1:1500096 \n",
      "GQ does not exist in genotype CC2938 at site chromosome_1:1500096 \n",
      "GQ does not exist in genotype CC3059 at site chromosome_1:1500096 \n",
      "GQ does not exist in genotype CC3060 at site chromosome_1:1500096 \n",
      "GQ does not exist in genotype CC3061 at site chromosome_1:1500096 \n",
      "GQ does not exist in genotype CC3062 at site chromosome_1:1500096 \n",
      "GQ does not exist in genotype CC3063 at site chromosome_1:1500096 \n",
      "GQ does not exist in genotype CC3064 at site chromosome_1:1500096 \n",
      "GQ does not exist in genotype CC3065 at site chromosome_1:1500096 \n",
      "GQ does not exist in genotype CC3068 at site chromosome_1:1500096 \n",
      "GQ does not exist in genotype CC3069 at site chromosome_1:1500096 \n",
      "GQ does not exist in genotype CC3071 at site chromosome_1:1500096 \n",
      "GQ does not exist in genotype CC3072 at site chromosome_1:1500096 \n",
      "GQ does not exist in genotype CC3073 at site chromosome_1:1500096 \n",
      "GQ does not exist in genotype CC3075 at site chromosome_1:1500096 \n",
      "GQ does not exist in genotype CC3076 at site chromosome_1:1500096 \n",
      "GQ does not exist in genotype CC3078 at site chromosome_1:1500096 \n",
      "GQ does not exist in genotype CC3079 at site chromosome_1:1500096 \n",
      "GQ does not exist in genotype CC3082 at site chromosome_1:1500096 \n",
      "GQ does not exist in genotype CC3083 at site chromosome_1:1500096 \n",
      "GQ does not exist in genotype CC3084 at site chromosome_1:1500096 \n",
      "GQ does not exist in genotype CC3086 at site chromosome_1:1500096 \n"
     ]
    }
   ],
   "source": [
    "callFormat_filters={\"DP\":\">5\", \"GQ\" : \">30\", \"RGQ\" : \">0\"}\n",
    "callAttribute_filters={'called': \"==True\", \"is_variant\": \"== True\"}\n",
    "\n",
    "for record in vr.fetch('chromosome_1', 1500000, 1500100):\n",
    "    if ness_vcf.test_site(record, recordAttribute_filters,recordINFOfilters, lenient = True):\n",
    "        print record.CHROM, record.POS, record.REF, record.INFO['DP']\n",
    "        for call in record.samples:\n",
    "            if ness_vcf.test_genotype(call,callFormat_filters, callAttribute_filters, lenient=False, verbose=True ):\n",
    "                print \"\\t\\t\", call.sample, call.gt_bases\n",
    "                "
   ]
  },
  {
   "cell_type": "code",
   "execution_count": null,
   "metadata": {
    "collapsed": true
   },
   "outputs": [],
   "source": []
  }
 ],
 "metadata": {
  "kernelspec": {
   "display_name": "Python 2",
   "language": "python",
   "name": "python2"
  },
  "language_info": {
   "codemirror_mode": {
    "name": "ipython",
    "version": 3
   },
   "file_extension": ".py",
   "mimetype": "text/x-python",
   "name": "python",
   "nbconvert_exporter": "python",
   "pygments_lexer": "ipython3",
   "version": "3.5.1"
  }
 },
 "nbformat": 4,
 "nbformat_minor": 2
}
