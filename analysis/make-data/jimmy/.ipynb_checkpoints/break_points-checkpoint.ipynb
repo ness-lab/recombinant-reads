{
 "cells": [
  {
   "cell_type": "code",
   "execution_count": 46,
   "metadata": {},
   "outputs": [
    {
     "name": "stdout",
     "output_type": "stream",
     "text": [
      "SRR5243297.dup.bam\n"
     ]
    }
   ],
   "source": [
    "import pandas as pd\n",
    "import numpy as np\n",
    "import pysam\n",
    "\n",
    "df_breakpoints = pd.read_csv('../../../data/references/liu-data-reference/all_break_points.txt', sep='\\t')\n",
    "df_lookup = pd.read_csv('../../../data/references/liu-data-reference/liu_sample_lookup.tsv', sep='\\t')\n",
    "bam_files_path = '../../../data/liu-data/bam/'\n",
    "f = open('out.txt', 'w')\n",
    "\n",
    "counter = 0\n",
    "for index, row in df_breakpoints.iterrows():\n",
    "    \n",
    "    if counter > 0:\n",
    "        break;\n",
    "    counter += 1\n",
    "    \n",
    "    individual = row[2]\n",
    "    chromosome = row[3]\n",
    "    left_bound = int(row[4])\n",
    "    right_bound = int(row[5])\n",
    "    \n",
    "    run = df_lookup[df_lookup['individual'] == individual].iloc[0]['Run'] + '.dup.bam'\n",
    "    \n",
    "    alignment_file = pysam.AlignmentFile(bam_files_path + run, 'rb')\n",
    "    f.write(alignment_file.fetch(chromosome, left_bound, right_bound))\n",
    "    "
   ]
  },
  {
   "cell_type": "code",
   "execution_count": null,
   "metadata": {},
   "outputs": [],
   "source": []
  }
 ],
 "metadata": {
  "kernelspec": {
   "display_name": "Python 3.6.8 64-bit",
   "language": "python",
   "name": "python36864bitf3c932909b47479fb1b79c0f8dcfbaa2"
  },
  "language_info": {
   "codemirror_mode": {
    "name": "ipython",
    "version": 3
   },
   "file_extension": ".py",
   "mimetype": "text/x-python",
   "name": "python",
   "nbconvert_exporter": "python",
   "pygments_lexer": "ipython3",
   "version": "3.6.8"
  }
 },
 "nbformat": 4,
 "nbformat_minor": 2
}
