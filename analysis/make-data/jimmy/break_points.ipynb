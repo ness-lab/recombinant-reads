{
 "cells": [
  {
   "cell_type": "code",
   "execution_count": 3,
   "metadata": {},
   "outputs": [],
   "source": [
    "import pandas as pd\n",
    "import numpy as np\n",
    "import pysam   \n",
    "import collections\n",
    "from cyvcf2 import VCF\n",
    "\n",
    "df_breakpoints = pd.read_csv('../../../data/references/liu-data-reference/all_break_points.txt', sep='\\t')\n",
    "df_lookup = pd.read_csv('../../../data/references/liu-data-reference/liu_sample_lookup.tsv', sep='\\t')\n",
    "bam_files_path = '../../../data/liu-data/bam/'\n",
    "vcf_files_path = '../../../data/liu-data/vcf/'"
   ]
  },
  {
   "cell_type": "code",
   "execution_count": null,
   "metadata": {},
   "outputs": [],
   "source": [
    "'''\n",
    "Grab reads from all_break_points.txt, look up their corresponding bam file in liu_sample_lookup.tsv\n",
    "and write the reads into a text file\n",
    "'''\n",
    "\n",
    "missing = collections.Counter()\n",
    "\n",
    "counter = 0\n",
    "\n",
    "with open('out.txt', 'w') as f:\n",
    "    for index, row in df_breakpoints.iterrows():\n",
    "        \n",
    "        individual = row[2]\n",
    "        chromosome = row[3]\n",
    "        left_bound = int(row[4])\n",
    "        right_bound = int(row[5])\n",
    "        \n",
    "        counter += 1\n",
    "        \n",
    "        if counter % 100 == 0:\n",
    "            print(missing)\n",
    "        \n",
    "        #try:\n",
    "        run = df_lookup[df_lookup['individual'] == individual].iloc[0]['Run'] + '.dup.bam'\n",
    "        #except:\n",
    "        #    missing[run] += 1\n",
    "         #   continue\n",
    "\n",
    "        alignment_file = pysam.AlignmentFile(bam_files_path + run, 'rb')\n",
    "        for alignment in alignment_file.fetch(chromosome, left_bound, right_bound):\n",
    "            f.write(str(alignment)+'\\n')\n",
    "            \n",
    "print(missing)"
   ]
  },
  {
   "cell_type": "code",
   "execution_count": 10,
   "metadata": {},
   "outputs": [
    {
     "name": "stdout",
     "output_type": "stream",
     "text": [
      "C3-9.1\n"
     ]
    }
   ],
   "source": [
    "print(individual)"
   ]
  },
  {
   "cell_type": "code",
   "execution_count": 16,
   "metadata": {},
   "outputs": [],
   "source": [
    "'''\n",
    "Create bam file using first region of all_break_points.txt. 10% of reads should be of that section and the\n",
    "rest should be from other individuals without the recombination there\n",
    "\n",
    "Recombination location:\n",
    "C2-1.1 chromosome_1 left: 2031009 right: 2035598 length: 4589 SRR5243297.dup.bam\n",
    "'''\n",
    "\n",
    "'''\n",
    "The file with the recombination is SRR5243297 and the other 9 are files without\n",
    "the recombination between 2031009 and 2035598\n",
    "'''\n",
    "\n",
    "recomb_file = pysam.AlignmentFile(bam_files_path + 'SRR5243297' + '.dup.bam')\n",
    "files = ['SRR5243270', 'SRR5243271', 'SRR5243272', 'SRR5243273', \n",
    "         'SRR5243274', 'SRR5243275', 'SRR5243276', 'SRR5243277', 'SRR5243278']\n",
    "chromosome = 'chromosome_1'\n",
    "left_bound = 2031009\n",
    "right_bound = 2035598\n",
    "\n",
    "f = pysam.AlignmentFile('recomb_mock.bam', 'wh', template=recomb_file)\n",
    "\n",
    "counter = 0\n",
    "\n",
    "for alignment in recomb_file:\n",
    "    if counter >= 200:\n",
    "        break\n",
    "    f.write(alignment)\n",
    "    counter += 1\n",
    "    \n",
    "for file in files:\n",
    "    alignment_file = pysam.AlignmentFile(bam_files_path + file + '.dup.bam')\n",
    "\n",
    "    counter = 0\n",
    "\n",
    "    for alignment in alignment_file.fetch(chromosome, left_bound, right_bound):\n",
    "\n",
    "        # write 200 lines from each file\n",
    "        if counter >= 200:\n",
    "            break\n",
    "\n",
    "        f.write(alignment)\n",
    "        counter += 1"
   ]
  },
  {
   "cell_type": "code",
   "execution_count": 10,
   "metadata": {},
   "outputs": [],
   "source": [
    "'''\n",
    "Using cyvcf, go through each of the breakpoints and check the number of SNPs per segment.\n",
    "Return false if there is 1 or less SNPs. \n",
    "Otherwise, return the SNP locations in a list.\n",
    "'''\n",
    "\n",
    "def check_SNPs(f_name, chromosome, left_bound, right_bound):\n",
    "    vcf_in = VCF(f_name)\n",
    "    region = '{c}:{l}-{r}'.format(c=chromosome, l=left_bound, r=right_bound)\n",
    "    records = [rec for rec in vcf_in(region)]\n",
    "    \n",
    "    if len(records) < 2:\n",
    "        return False\n",
    "    else:\n",
    "        return records\n"
   ]
  },
  {
   "cell_type": "code",
   "execution_count": 48,
   "metadata": {},
   "outputs": [],
   "source": [
    "'''\n",
    "Given a bam file object, return the percentage of recombination in the bam files\n",
    "'''\n",
    "\n",
    "def recomb_percentage(bam_file_obj):\n",
    "    \n",
    "    recomb = 0\n",
    "    total = 0\n",
    "    \n",
    "    for record in bam_file_obj:\n",
    "        print(record.reference_name, record.query_start, record.query_end)\n",
    "    "
   ]
  },
  {
   "cell_type": "code",
   "execution_count": 49,
   "metadata": {},
   "outputs": [
    {
     "ename": "AttributeError",
     "evalue": "'pysam.calignedsegment.AlignedSegment' object has no attribute 'query_start'",
     "output_type": "error",
     "traceback": [
      "\u001b[0;31m---------------------------------------------------------------------------\u001b[0m",
      "\u001b[0;31mAttributeError\u001b[0m                            Traceback (most recent call last)",
      "\u001b[0;32m<ipython-input-49-dfb790903303>\u001b[0m in \u001b[0;36m<module>\u001b[0;34m()\u001b[0m\n\u001b[1;32m      1\u001b[0m \u001b[0mbam_file_obj\u001b[0m \u001b[0;34m=\u001b[0m \u001b[0mpysam\u001b[0m\u001b[0;34m.\u001b[0m\u001b[0mAlignmentFile\u001b[0m\u001b[0;34m(\u001b[0m\u001b[0;34m'recomb_mock.bam'\u001b[0m\u001b[0;34m,\u001b[0m \u001b[0;34m'r'\u001b[0m\u001b[0;34m)\u001b[0m\u001b[0;34m\u001b[0m\u001b[0m\n\u001b[1;32m      2\u001b[0m \u001b[0;34m\u001b[0m\u001b[0m\n\u001b[0;32m----> 3\u001b[0;31m \u001b[0mrecomb_percentage\u001b[0m\u001b[0;34m(\u001b[0m\u001b[0mbam_file_obj\u001b[0m\u001b[0;34m)\u001b[0m\u001b[0;34m\u001b[0m\u001b[0m\n\u001b[0m",
      "\u001b[0;32m<ipython-input-48-8e9b6654a002>\u001b[0m in \u001b[0;36mrecomb_percentage\u001b[0;34m(bam_file_obj)\u001b[0m\n\u001b[1;32m      9\u001b[0m \u001b[0;34m\u001b[0m\u001b[0m\n\u001b[1;32m     10\u001b[0m     \u001b[0;32mfor\u001b[0m \u001b[0mrecord\u001b[0m \u001b[0;32min\u001b[0m \u001b[0mbam_file_obj\u001b[0m\u001b[0;34m:\u001b[0m\u001b[0;34m\u001b[0m\u001b[0m\n\u001b[0;32m---> 11\u001b[0;31m         \u001b[0mprint\u001b[0m\u001b[0;34m(\u001b[0m\u001b[0mrecord\u001b[0m\u001b[0;34m.\u001b[0m\u001b[0mreference_name\u001b[0m\u001b[0;34m,\u001b[0m \u001b[0mrecord\u001b[0m\u001b[0;34m.\u001b[0m\u001b[0mquery_start\u001b[0m\u001b[0;34m,\u001b[0m \u001b[0mrecord\u001b[0m\u001b[0;34m.\u001b[0m\u001b[0mquery_end\u001b[0m\u001b[0;34m)\u001b[0m\u001b[0;34m\u001b[0m\u001b[0m\n\u001b[0m\u001b[1;32m     12\u001b[0m \u001b[0;34m\u001b[0m\u001b[0m\n",
      "\u001b[0;31mAttributeError\u001b[0m: 'pysam.calignedsegment.AlignedSegment' object has no attribute 'query_start'"
     ]
    }
   ],
   "source": [
    "bam_file_obj = pysam.AlignmentFile('recomb_mock.bam', 'r')\n",
    "\n",
    "recomb_percentage(bam_file_obj)"
   ]
  },
  {
   "cell_type": "code",
   "execution_count": null,
   "metadata": {},
   "outputs": [],
   "source": [
    "with open('SNPs.txt', 'w') as f:\n",
    "    for index, row in df_breakpoints.iterrows():\n",
    "\n",
    "        individual = row[2]\n",
    "        chromosome = row[3]\n",
    "        left_bound = int(row[4])\n",
    "        right_bound = int(row[5])\n",
    "\n",
    "        #run = df_lookup[df_lookup['individual'] == individual].iloc[0]['Run'] + '.g.vcf.gz'\n",
    "        \n",
    "        for SNP in check_SNPs(vcf_files_path + 'H.vcf.gz', chromosome, left_bound, right_bound):\n",
    "            print(SNP.POS, SNP.REF, SNP.ALT)\n",
    "        \n",
    "        break\n",
    "        \n",
    "        #f.write(str(check_SNPs(vcf_files_path + run, chromosome, left_bound, right_bound)) + '\\n')\n"
   ]
  }
 ],
 "metadata": {
  "kernelspec": {
   "display_name": "Python 3",
   "language": "python",
   "name": "python3"
  },
  "language_info": {
   "codemirror_mode": {
    "name": "ipython",
    "version": 3
   },
   "file_extension": ".py",
   "mimetype": "text/x-python",
   "name": "python",
   "nbconvert_exporter": "python",
   "pygments_lexer": "ipython3",
   "version": "3.5.1"
  }
 },
 "nbformat": 4,
 "nbformat_minor": 2
}
