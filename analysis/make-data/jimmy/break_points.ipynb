{
 "cells": [
  {
   "cell_type": "code",
   "execution_count": 4,
   "metadata": {},
   "outputs": [],
   "source": [
    "import pandas as pd\n",
    "import numpy as np\n",
    "import pysam   \n",
    "import collections\n",
    "from cyvcf2 import VCF\n",
    "\n",
    "df_breakpoints = pd.read_csv('../../../data/references/liu-data-reference/all_break_points.txt', sep='\\t')\n",
    "df_lookup = pd.read_csv('../../../data/references/liu-data-reference/liu_sample_lookup.tsv', sep='\\t')\n",
    "bam_files_path = '../../../data/liu-data/bam/'\n",
    "vcf_files_path = '../../../data/liu-data/vcf/'"
   ]
  },
  {
   "cell_type": "code",
   "execution_count": 25,
   "metadata": {},
   "outputs": [],
   "source": [
    "'''\n",
    "Grab reads from all_break_points.txt, look up their corresponding bam file in liu_sample_lookup.tsv\n",
    "and write the reads into a text file\n",
    "'''\n",
    "\n",
    "with open('breakpoint_bams.txt', 'w') as f:\n",
    "    for index, row in df_breakpoints.iterrows():\n",
    "        \n",
    "        individual = row[2]\n",
    "        chromosome = row[3]\n",
    "        left_bound = int(row[4])\n",
    "        right_bound = int(row[5])\n",
    "        \n",
    "        try:\n",
    "            run = df_lookup[df_lookup['individual'] == individual].iloc[0]['Run'] + '.dup.bam'\n",
    "        except:\n",
    "            continue\n",
    "\n",
    "        alignment_file = pysam.AlignmentFile(bam_files_path + run, 'rb')\n",
    "        for alignment in alignment_file.fetch(chromosome, left_bound, right_bound):\n",
    "            f.write(str(alignment)+'\\n')"
   ]
  },
  {
   "cell_type": "code",
   "execution_count": 84,
   "metadata": {},
   "outputs": [],
   "source": [
    "'''\n",
    "Using cyvcf, go through each of the breakpoints and check the number of SNPs per segment.\n",
    "Return the SNP locations in a list.\n",
    "'''\n",
    "\n",
    "def check_SNPs(f_name, chromosome, left_bound, right_bound):\n",
    "    vcf_in = VCF(f_name)\n",
    "    region = '{c}:{l}-{r}'.format(c=chromosome, l=left_bound, r=right_bound)\n",
    "    records = [rec for rec in vcf_in(region)]\n",
    "    return records\n"
   ]
  },
  {
   "cell_type": "code",
   "execution_count": 24,
   "metadata": {},
   "outputs": [],
   "source": [
    "'''\n",
    "SNP distribution analysis per 10k bases\n",
    "'''\n",
    "\n",
    "bound = 0\n",
    "SNP_count = []\n",
    "f_name = vcf_files_path + 'parental_filtered.vcf.gz'\n",
    "\n",
    "with open('SNP_10k.txt', 'w') as f:\n",
    "    while True:\n",
    "        count = len(check_SNPs(f_name, 'chromosome_1', bound, bound + 10000))\n",
    "        SNP_count.append(count)\n",
    "        f.write('{b1}-{b2}: {c}\\n'.format(b1=bound, b2=bound+10000, c=count))\n",
    "        bound += 10000\n",
    "        \n",
    "        #didn't find a way to get the length of sequence or last SNP position, so this is my hack\n",
    "        if SNP_count[-5:] == [0, 0, 0, 0, 0]:\n",
    "            break\n",
    "    \n",
    "    "
   ]
  },
  {
   "cell_type": "code",
   "execution_count": 29,
   "metadata": {},
   "outputs": [],
   "source": [
    "'''\n",
    "SNP distribution analysis per breakpoint\n",
    "'''\n",
    "f_name = vcf_files_path + 'parental_filtered.vcf.gz'\n",
    "\n",
    "with open('SNP_breakpoint.txt', 'w') as f:\n",
    "    for index, row in df_breakpoints.iterrows():\n",
    "        \n",
    "        individual = row[2]\n",
    "        chromosome = row[3]\n",
    "        left_bound = int(row[4])\n",
    "        right_bound = int(row[5])\n",
    "        \n",
    "        try:\n",
    "            run = df_lookup[df_lookup['individual'] == individual].iloc[0]['Run'] + '.dup.bam'\n",
    "        except:\n",
    "            continue\n",
    "        \n",
    "        #parental_filtered.vcf only has chromosome 1\n",
    "        if chromosome != \"chromosome_1\":\n",
    "            continue\n",
    "        \n",
    "        count = len(check_SNPs(f_name, chromosome, left_bound, right_bound))\n",
    "        f.write('{run} {chrom} {l} {r} {c}\\n'.format(run = run, chrom=chromosome, l=left_bound, r=right_bound, c=count))\n",
    "        \n"
   ]
  },
  {
   "cell_type": "code",
   "execution_count": 151,
   "metadata": {},
   "outputs": [],
   "source": [
    "'''\n",
    "Create bam file using first region of all_break_points.txt. 10% of reads should be of that section and the\n",
    "rest should be from other individuals without the recombination there\n",
    "\n",
    "recomb_filepath: full filepath to the bam file that the recombination is on\n",
    "    ex: bam_file_path + 'SRR5243261.dup.bam'\n",
    "chromsome: chromosome that the recombination is on\n",
    "    ex: chromsome_1\n",
    "left_bound/right_bound: the bounds of the recombination\n",
    "    ex: 3440560, 3441577\n",
    "lines: lines from each files, total number of lines in mock file is lines * (no. of other_files + 1)\n",
    "    Note: there may not be enough reads for your given amount of lines\n",
    "other_files: default is set in function, can also be user defined\n",
    "\n",
    "'''\n",
    "\n",
    "def recomb_mock(recomb_filepath, chromosome, left_bound, right_bound, lines=200, other_files=None):\n",
    "    \n",
    "    if other_files == None:\n",
    "        other_files = ['SRR5243250.dup.bam', 'SRR5243251.dup.bam', 'SRR5243252.dup.bam', 'SRR5243253.dup.bam', \n",
    "             'SRR5243254.dup.bam', 'SRR5243255.dup.bam', 'SRR5243256.dup.bam', 'SRR5243257.dup.bam', 'SRR5243262.dup.bam']\n",
    "    \n",
    "    recomb_file = pysam.AlignmentFile(recomb_filepath)\n",
    "\n",
    "    f = pysam.AlignmentFile('recomb_mock.bam', 'wh', template=recomb_file)\n",
    "\n",
    "    counter = 0\n",
    "\n",
    "    for alignment in recomb_file.fetch(chromosome, left_bound, right_bound):\n",
    "        if counter >= lines:\n",
    "            break\n",
    "        f.write(alignment)\n",
    "        counter += 1\n",
    "        \n",
    "    print('recomb, ' +  str(counter))\n",
    "    \n",
    "    for file in other_files:\n",
    "        alignment_file = pysam.AlignmentFile(bam_files_path + file)\n",
    "\n",
    "        counter = 0\n",
    "\n",
    "        for alignment in alignment_file.fetch(chromosome, left_bound, right_bound):\n",
    "\n",
    "            # write 200 lines from each file\n",
    "            if counter >= lines:\n",
    "                break\n",
    "\n",
    "            f.write(alignment)\n",
    "            counter += 1\n",
    "        \n",
    "        print(file, counter)"
   ]
  },
  {
   "cell_type": "code",
   "execution_count": 172,
   "metadata": {},
   "outputs": [
    {
     "name": "stdout",
     "output_type": "stream",
     "text": [
      "recomb, 84\n",
      "SRR5243250.dup.bam 46\n",
      "SRR5243251.dup.bam 98\n",
      "SRR5243252.dup.bam 70\n",
      "SRR5243253.dup.bam 68\n",
      "SRR5243254.dup.bam 63\n",
      "SRR5243255.dup.bam 71\n",
      "SRR5243256.dup.bam 29\n",
      "SRR5243257.dup.bam 93\n",
      "SRR5243262.dup.bam 88\n"
     ]
    }
   ],
   "source": [
    "filepath = bam_files_path + 'SRR5243261.dup.bam'\n",
    "\n",
    "#recomb_mock(filepath, 'chromosome_1', 3440560, 3441577)\n",
    "recomb_mock(filepath, 'chromosome_1', 3440400, 3441700)"
   ]
  },
  {
   "cell_type": "code",
   "execution_count": 170,
   "metadata": {},
   "outputs": [],
   "source": [
    "'''\n",
    "Given a bam file object, return the percentage of recombination in the bam files\n",
    "'''\n",
    "\n",
    "def recomb_percentage(bam_file_obj):\n",
    "    \n",
    "    recomb = 0\n",
    "    no_match = 0\n",
    "    total = 0\n",
    "    SNP_count = 0\n",
    "    skip_counter = 0\n",
    "    \n",
    "    for record in bam_file_obj:\n",
    "        \n",
    "        total += 1\n",
    "        if total % 100 == 0:\n",
    "            print('recomb: {r}, no match: {n}, sequences: {t}, SNPs: {s}'.format(r=recomb, n=no_match, \n",
    "                                                                                 t=total, s=SNP_count))\n",
    "    \n",
    "        SNPs = check_SNPs(vcf_files_path + 'parental_filtered.vcf.gz', record.reference_name, \n",
    "                          record.reference_start,\n",
    "                          record.reference_start + record.query_alignment_length)\n",
    "        \n",
    "        # double list comp to see if the first of all the cigartuples are 0 or 8\n",
    "        # 0 is match, 8 is point mismatch\n",
    "        if not all([n in [0, 8] for n in [t[0] for t in record.cigartuples]]):\n",
    "            skip_counter += 1\n",
    "            continue\n",
    "        \n",
    "        if len(SNPs) > 1:\n",
    "            previous = 'not set'\n",
    "            segment = record.query_sequence\n",
    "            \n",
    "            for SNP in SNPs:\n",
    "                start = SNP.start - record.reference_start\n",
    "                SNP_count += 1\n",
    "                \n",
    "                strand1 = SNP.gt_bases[0][0]\n",
    "                strand2 = SNP.gt_bases[1][0]\n",
    "                \n",
    "                if segment[start] == strand1:\n",
    "                    if previous == 'not set':\n",
    "                        previous = 'sample1'\n",
    "                    elif previous == 'sample2':\n",
    "                        recomb += 1\n",
    "                        break                    \n",
    "                elif segment[start] == strand2:\n",
    "                    if previous == 'not set':\n",
    "                        previous = 'sample2'\n",
    "                    elif previous == 'sample1':\n",
    "                        recomb += 1\n",
    "                        break       \n",
    "                else:\n",
    "                    print(record.query_alignment_qualities[start])\n",
    "                    no_match += 1\n",
    "                \n",
    "    print(skip_counter)\n",
    "    print('recomb: {r}, no match: {n}, sequences: {t}, SNPs: {s}'.format(r=recomb, n=no_match, \n",
    "                                                                                 t=total, s=SNP_count))\n",
    "    return (recomb/total, no_match/total)"
   ]
  },
  {
   "cell_type": "code",
   "execution_count": 171,
   "metadata": {},
   "outputs": [
    {
     "name": "stderr",
     "output_type": "stream",
     "text": [
      "/usr/local/lib/python3.5/site-packages/ipykernel_launcher.py:38: DeprecationWarning: In future, it will be an error for 'np.bool_' scalars to be interpreted as an index\n",
      "/usr/local/lib/python3.5/site-packages/ipykernel_launcher.py:39: DeprecationWarning: In future, it will be an error for 'np.bool_' scalars to be interpreted as an index\n"
     ]
    },
    {
     "name": "stdout",
     "output_type": "stream",
     "text": [
      "32\n",
      "recomb: 0, no match: 1, sequences: 100, SNPs: 131\n",
      "32\n",
      "8\n",
      "recomb: 0, no match: 3, sequences: 200, SNPs: 391\n",
      "41\n",
      "recomb: 0, no match: 4, sequences: 300, SNPs: 733\n",
      "32\n",
      "recomb: 0, no match: 5, sequences: 400, SNPs: 877\n",
      "113\n",
      "recomb: 0, no match: 5, sequences: 458, SNPs: 1053\n"
     ]
    },
    {
     "data": {
      "text/plain": [
       "(0.0, 0.010917030567685589)"
      ]
     },
     "execution_count": 171,
     "metadata": {},
     "output_type": "execute_result"
    }
   ],
   "source": [
    "bam_file_obj = pysam.AlignmentFile('recomb_mock.bam', 'r')\n",
    "\n",
    "recomb_percentage(bam_file_obj)"
   ]
  },
  {
   "cell_type": "code",
   "execution_count": null,
   "metadata": {},
   "outputs": [],
   "source": []
  }
 ],
 "metadata": {
  "kernelspec": {
   "display_name": "Python 3",
   "language": "python",
   "name": "python3"
  },
  "language_info": {
   "codemirror_mode": {
    "name": "ipython",
    "version": 3
   },
   "file_extension": ".py",
   "mimetype": "text/x-python",
   "name": "python",
   "nbconvert_exporter": "python",
   "pygments_lexer": "ipython3",
   "version": "3.5.1"
  }
 },
 "nbformat": 4,
 "nbformat_minor": 2
}
